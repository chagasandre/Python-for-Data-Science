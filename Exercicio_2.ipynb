{
 "cells": [
  {
   "cell_type": "code",
   "execution_count": 9,
   "metadata": {},
   "outputs": [
    {
     "name": "stdout",
     "output_type": "stream",
     "text": [
      "media 4.5556\n"
     ]
    }
   ],
   "source": [
    "#lista com números\n",
    "numeros  = [9,6,7,3,8,8,\"oito\", \"A\", \"C\"]\n",
    "\n",
    "#ler tamanho do array\n",
    "total = len(numeros)\n",
    "\n",
    "#remover o que não pode ser lido\n",
    "numeros.remove(\"A\")\n",
    "numeros.remove(\"C\")\n",
    "numeros.remove(\"oito\")\n",
    "\n",
    "#soma inicia no 0\n",
    "soma = 0\n",
    "\n",
    "#condição para média\n",
    "for n in numeros:\n",
    "    soma = soma + n\n",
    "print('media', round(soma/total,4))"
   ]
  },
  {
   "cell_type": "code",
   "execution_count": null,
   "metadata": {},
   "outputs": [],
   "source": []
  }
 ],
 "metadata": {
  "kernelspec": {
   "display_name": "Python 3",
   "language": "python",
   "name": "python3"
  },
  "language_info": {
   "codemirror_mode": {
    "name": "ipython",
    "version": 3
   },
   "file_extension": ".py",
   "mimetype": "text/x-python",
   "name": "python",
   "nbconvert_exporter": "python",
   "pygments_lexer": "ipython3",
   "version": "3.8.3"
  }
 },
 "nbformat": 4,
 "nbformat_minor": 4
}
