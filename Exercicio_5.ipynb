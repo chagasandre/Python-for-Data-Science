{
 "cells": [
  {
   "cell_type": "code",
   "execution_count": 23,
   "metadata": {},
   "outputs": [
    {
     "name": "stdout",
     "output_type": "stream",
     "text": [
      "chave:  banana - valor:  0.98\n",
      "chave:  maçã - valor:  7.0\n",
      "chave:  pera - valor:  5.0\n",
      "chave:  cenoura - valor:  3.5\n"
     ]
    }
   ],
   "source": [
    "#criando dicionários e atribuindo valores\n",
    "d1 = dict({\"banana\": 0.98, \"maçã\": 7.00, \"pera\": 5.00, \"cenoura\": 3.5 })\n",
    "\n",
    "#imprimir chave e valor\n",
    "for x,y in d1.items():\n",
    "    print('chave: ',x, \"- \" 'valor: ',y)"
   ]
  },
  {
   "cell_type": "code",
   "execution_count": null,
   "metadata": {},
   "outputs": [],
   "source": []
  }
 ],
 "metadata": {
  "kernelspec": {
   "display_name": "Python 3",
   "language": "python",
   "name": "python3"
  },
  "language_info": {
   "codemirror_mode": {
    "name": "ipython",
    "version": 3
   },
   "file_extension": ".py",
   "mimetype": "text/x-python",
   "name": "python",
   "nbconvert_exporter": "python",
   "pygments_lexer": "ipython3",
   "version": "3.8.3"
  }
 },
 "nbformat": 4,
 "nbformat_minor": 4
}
