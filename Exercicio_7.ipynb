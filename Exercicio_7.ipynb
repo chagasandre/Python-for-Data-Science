{
 "cells": [
  {
   "cell_type": "code",
   "execution_count": 13,
   "metadata": {},
   "outputs": [
    {
     "name": "stdout",
     "output_type": "stream",
     "text": [
      "Dias necessários para subir: 10\n"
     ]
    }
   ],
   "source": [
    "#criando classe\n",
    "class Poco:\n",
    "    profundidade = 0\n",
    "    estado = 0\n",
    "    dias = 0\n",
    "    subida = 0\n",
    "    \n",
    "#definindo profundidade e subida  \n",
    "    def __init__(self, profundidade, subida):\n",
    "        self.profundidade = profundidade\n",
    "        self.subida = subida\n",
    "        \n",
    "#definindo calculo para subida         \n",
    "    def sobe(self):\n",
    "        self.estado = self.estado + self.subida\n",
    "        self.dias = self.dias + 1\n",
    "\n",
    "#definindo calculo para descida    \n",
    "    def desce(self):\n",
    "        self.estado = self.estado -1\n",
    "\n",
    "#definindo calculo para parar \n",
    "    def fundoDoPoco(self):\n",
    "        while (self.estado < self.profundidade):\n",
    "            self.sobe()\n",
    "            self.desce()\n",
    "            \n",
    "#criando objeto Poco e informando a profundidade e quantos metros sobe por dia\n",
    "homem = Poco(10,2)\n",
    "\n",
    "#Criando fórmula para calcular quantos dias é preciso para subir \n",
    "homem.fundoDoPoco()\n",
    "\n",
    "#Imprimindo o valor de dias\n",
    "print('Dias necessários para subir:', homem.dias)"
   ]
  },
  {
   "cell_type": "code",
   "execution_count": null,
   "metadata": {},
   "outputs": [],
   "source": []
  }
 ],
 "metadata": {
  "kernelspec": {
   "display_name": "Python 3",
   "language": "python",
   "name": "python3"
  },
  "language_info": {
   "codemirror_mode": {
    "name": "ipython",
    "version": 3
   },
   "file_extension": ".py",
   "mimetype": "text/x-python",
   "name": "python",
   "nbconvert_exporter": "python",
   "pygments_lexer": "ipython3",
   "version": "3.8.3"
  }
 },
 "nbformat": 4,
 "nbformat_minor": 4
}
