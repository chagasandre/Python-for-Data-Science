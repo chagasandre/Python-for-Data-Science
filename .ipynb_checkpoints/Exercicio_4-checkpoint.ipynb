{
 "cells": [
  {
   "cell_type": "code",
   "execution_count": 27,
   "metadata": {},
   "outputs": [
    {
     "name": "stdout",
     "output_type": "stream",
     "text": [
      "ordenados  [0, 1, 2, 3, 3, 4, 4, 5, 7, 7, 8, 8, 9, 9, 31, 56, 234]\n",
      "repetidos  [3, 4, 7, 8, 9]\n"
     ]
    }
   ],
   "source": [
    "#lista com números\n",
    "numeros = [4,5,3,4,56,3,2,31,1,7,8,9,0,234,7,8,9]\n",
    "#ordenando a lista\n",
    "numeros.sort ()\n",
    "\n",
    "#criando as variáveis para valores repetidos e ordenados\n",
    "repetidos = []\n",
    "ordenados = []\n",
    "\n",
    "#enquanto n dentro de numeros não estiver em \"ordenados\", adicione a lista de \"ordenados\"\n",
    "for n in numeros:\n",
    "        if n not in ordenados:\n",
    "            ordenados.append(n)\n",
    "            \n",
    "#se já estiver adicione a variável \"repetidos\"\n",
    "        else:\n",
    "            repetidos.append(n)\n",
    "\n",
    "print('ordenados ',numeros)\n",
    "print('repetidos ',repetidos)"
   ]
  },
  {
   "cell_type": "code",
   "execution_count": null,
   "metadata": {},
   "outputs": [],
   "source": []
  }
 ],
 "metadata": {
  "kernelspec": {
   "display_name": "Python 3",
   "language": "python",
   "name": "python3"
  },
  "language_info": {
   "codemirror_mode": {
    "name": "ipython",
    "version": 3
   },
   "file_extension": ".py",
   "mimetype": "text/x-python",
   "name": "python",
   "nbconvert_exporter": "python",
   "pygments_lexer": "ipython3",
   "version": "3.8.3"
  }
 },
 "nbformat": 4,
 "nbformat_minor": 4
}
