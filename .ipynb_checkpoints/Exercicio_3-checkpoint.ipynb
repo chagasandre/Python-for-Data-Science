{
 "cells": [
  {
   "cell_type": "code",
   "execution_count": 42,
   "metadata": {},
   "outputs": [
    {
     "name": "stdout",
     "output_type": "stream",
     "text": [
      "frutas  ['banana', 'maça', 'pera', 'uva']\n",
      "legumes  ['alho', 'batata', 'cebola', 'cenoura']\n"
     ]
    }
   ],
   "source": [
    "feira  = [\"banana\", \"pera\", \"batata\", \"uva\", \"cebola\", \"alho\", \"açucar\"]\n",
    "\n",
    "#removendo o que não dá para comprar na feira\n",
    "feira.remove('açucar')\n",
    "\n",
    "#adicionando a fruta que o chefe pediu\n",
    "feira.append('maça')\n",
    "feira.append('cenoura')\n",
    "\n",
    "#declarando as variaveis para separar frutas e legumes\n",
    "frutas = []\n",
    "legumes = []\n",
    "\n",
    "#condição para validar\n",
    "for n in feira:\n",
    "    if (n == \"banana\" or  n == \"pera\" or n == \"uva\" or n == \"maça\"):\n",
    "        \n",
    "#se frutas iguais as acima adicionar na variável \"frutas\"\n",
    "        frutas.append(n)\n",
    "        \n",
    "#senão adicionar na variável \"legumes\"       \n",
    "    else:\n",
    "        legumes.append(n)\n",
    "\n",
    "#ordernar\n",
    "frutas.sort()\n",
    "legumes.sort()\n",
    "        \n",
    "#imprimir valores\n",
    "print('frutas ',frutas)\n",
    "print('legumes ',legumes)"
   ]
  },
  {
   "cell_type": "code",
   "execution_count": null,
   "metadata": {},
   "outputs": [],
   "source": []
  },
  {
   "cell_type": "code",
   "execution_count": null,
   "metadata": {},
   "outputs": [],
   "source": []
  }
 ],
 "metadata": {
  "kernelspec": {
   "display_name": "Python 3",
   "language": "python",
   "name": "python3"
  },
  "language_info": {
   "codemirror_mode": {
    "name": "ipython",
    "version": 3
   },
   "file_extension": ".py",
   "mimetype": "text/x-python",
   "name": "python",
   "nbconvert_exporter": "python",
   "pygments_lexer": "ipython3",
   "version": "3.8.3"
  }
 },
 "nbformat": 4,
 "nbformat_minor": 4
}
