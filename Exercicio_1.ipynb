{
 "cells": [
  {
   "cell_type": "code",
   "execution_count": 16,
   "metadata": {},
   "outputs": [
    {
     "name": "stdin",
     "output_type": "stream",
     "text": [
      "Digite o primeiro número:  1\n",
      "Digite o segundo número:  1\n",
      "Digite a operação:  1\n"
     ]
    },
    {
     "name": "stdout",
     "output_type": "stream",
     "text": [
      "Operação não existente! \n",
      "Insira '+' para soma, '-' para substração, '*' para multiplicação ou '/' para divisão\n"
     ]
    }
   ],
   "source": [
    "# input para usuário inserir primeiro valor\n",
    "valor1 = input(\"Digite o primeiro número: \")\n",
    "#input para usuário inserir segundo valor\n",
    "valor2 = input(\"Digite o segundo número: \")\n",
    "#input para usuário inserir a operação\n",
    "operacao = input(\"Digite a operação: \")\n",
    "\n",
    "#variável para armazenar o resultado\n",
    "resultado = []\n",
    "\n",
    "#se operação = '+', some os valores  \n",
    "if operacao == \"+\":\n",
    "    resultado = float(valor1) + float(valor2)\n",
    "#se operação = '-', subtraia os valores      \n",
    "elif operacao == \"-\":\n",
    "    resultado = float(valor1) - float(valor2)\n",
    "#se operação = '*', multiplique os valores         \n",
    "elif operacao == \"*\":\n",
    "    resultado = float(valor1) * float(valor2)\n",
    "#se operação = '/', divida os valores    \n",
    "elif operacao == \"/\":\n",
    "    resultado = float(valor1) / float(valor2)\n",
    "#qualquer coisa diferente disso imprima \"Operação não existente!\"     \n",
    "else:\n",
    "    print(\"Operação não existente! \\nInsira '+' para soma, '-' para substração, '*' para multiplicação ou '/' para divisão\")\n",
    "    \n",
    "#senão, imprima o resultado\n",
    "if resultado:\n",
    "    print('Resultado:', (resultado))"
   ]
  },
  {
   "cell_type": "code",
   "execution_count": null,
   "metadata": {},
   "outputs": [],
   "source": []
  }
 ],
 "metadata": {
  "kernelspec": {
   "display_name": "Python 3",
   "language": "python",
   "name": "python3"
  },
  "language_info": {
   "codemirror_mode": {
    "name": "ipython",
    "version": 3
   },
   "file_extension": ".py",
   "mimetype": "text/x-python",
   "name": "python",
   "nbconvert_exporter": "python",
   "pygments_lexer": "ipython3",
   "version": "3.8.3"
  }
 },
 "nbformat": 4,
 "nbformat_minor": 4
}
