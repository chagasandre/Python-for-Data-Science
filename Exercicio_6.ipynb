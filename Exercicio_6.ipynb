{
 "cells": [
  {
   "cell_type": "code",
   "execution_count": null,
   "metadata": {},
   "outputs": [],
   "source": [
    "#importando a biblioteca numpy\n",
    "import numpy as np\n",
    "\n",
    "def leia_matriz():\n",
    "linha_com_zeros = [0]*5\n",
    "A = [ linha_com_zeros ] * 5\n",
    "A[1][1] =\n",
    "    \n",
    "A = []\n",
    "for i in range(5):\n",
    "    A = A + [[0]*5] # cria uma nova lista [0]*5\n",
    "A[1][1] = 2"
   ]
  }
 ],
 "metadata": {
  "kernelspec": {
   "display_name": "Python 3",
   "language": "python",
   "name": "python3"
  },
  "language_info": {
   "codemirror_mode": {
    "name": "ipython",
    "version": 3
   },
   "file_extension": ".py",
   "mimetype": "text/x-python",
   "name": "python",
   "nbconvert_exporter": "python",
   "pygments_lexer": "ipython3",
   "version": "3.8.3"
  }
 },
 "nbformat": 4,
 "nbformat_minor": 4
}
